{
  "cells": [
    {
      "cell_type": "code",
      "execution_count": 1,
      "metadata": {
        "id": "RrS3nl9hBJPx"
      },
      "outputs": [],
      "source": [
        "import torch\n",
        "import torch.nn as nn\n",
        "import torch.nn.functional as F\n",
        "from dataclasses import dataclass\n",
        "import os\n",
        "import pickle\n",
        "import requests"
      ]
    },
    {
      "cell_type": "code",
      "execution_count": 2,
      "metadata": {
        "id": "5FgZ8xiABQgF"
      },
      "outputs": [],
      "source": [
        "from model import BigramLanguageModel, ModelConfig"
      ]
    },
    {
      "cell_type": "code",
      "execution_count": 3,
      "metadata": {
        "colab": {
          "base_uri": "https://localhost:8080/",
          "height": 35
        },
        "id": "h5UxlQ3ZBSMz",
        "outputId": "889be547-1dcd-436a-cd20-e81486e064ab"
      },
      "outputs": [
        {
          "data": {
            "application/vnd.google.colaboratory.intrinsic+json": {
              "type": "string"
            },
            "text/plain": [
              "'cuda'"
            ]
          },
          "execution_count": 3,
          "metadata": {},
          "output_type": "execute_result"
        }
      ],
      "source": [
        "out_dir = './model/'\n",
        "device = 'cuda' if torch.cuda.is_available() else 'cpu'\n",
        "\n",
        "device"
      ]
    },
    {
      "cell_type": "code",
      "execution_count": 4,
      "metadata": {
        "id": "WlLtn8p_Bcqj"
      },
      "outputs": [],
      "source": [
        "batch_size = 64\n",
        "block_size = 256\n",
        "max_iters = 5000\n",
        "eval_interval = 200\n",
        "learning_rate = 3e-4\n",
        "eval_iters = 200\n",
        "n_embed = 384\n",
        "n_head = 6\n",
        "n_layer = 6\n",
        "dropout = 0.2"
      ]
    },
    {
      "cell_type": "code",
      "execution_count": 5,
      "metadata": {
        "colab": {
          "base_uri": "https://localhost:8080/"
        },
        "id": "nUKMtfdrBe-r",
        "outputId": "56fb0bc5-3aac-49bb-9873-43821171463c"
      },
      "outputs": [
        {
          "name": "stdout",
          "output_type": "stream",
          "text": [
            "--2024-06-16 17:57:46--  https://raw.githubusercontent.com/karpathy/char-rnn/master/data/tinyshakespeare/input.txt\n",
            "Resolving raw.githubusercontent.com (raw.githubusercontent.com)... 185.199.111.133, 185.199.109.133, 185.199.110.133, ...\n",
            "Connecting to raw.githubusercontent.com (raw.githubusercontent.com)|185.199.111.133|:443... connected.\n",
            "HTTP request sent, awaiting response... 200 OK\n",
            "Length: 1115394 (1.1M) [text/plain]\n",
            "Saving to: ‘input.txt.1’\n",
            "\n",
            "\rinput.txt.1           0%[                    ]       0  --.-KB/s               \rinput.txt.1         100%[===================>]   1.06M  --.-KB/s    in 0.04s   \n",
            "\n",
            "2024-06-16 17:57:46 (27.3 MB/s) - ‘input.txt.1’ saved [1115394/1115394]\n",
            "\n"
          ]
        }
      ],
      "source": [
        "# prepare the dataset\n",
        "torch.manual_seed(1337)\n",
        "!wget 'https://raw.githubusercontent.com/karpathy/char-rnn/master/data/tinyshakespeare/input.txt'"
      ]
    },
    {
      "cell_type": "code",
      "execution_count": 6,
      "metadata": {
        "colab": {
          "base_uri": "https://localhost:8080/"
        },
        "id": "28Q-rCSYB7FY",
        "outputId": "a6392ddb-0a26-4ae0-9c03-f4f28dbf5dbb"
      },
      "outputs": [
        {
          "data": {
            "text/plain": [
              "(['\\n',\n",
              "  ' ',\n",
              "  '!',\n",
              "  '$',\n",
              "  '&',\n",
              "  \"'\",\n",
              "  ',',\n",
              "  '-',\n",
              "  '.',\n",
              "  '3',\n",
              "  ':',\n",
              "  ';',\n",
              "  '?',\n",
              "  'A',\n",
              "  'B',\n",
              "  'C',\n",
              "  'D',\n",
              "  'E',\n",
              "  'F',\n",
              "  'G',\n",
              "  'H',\n",
              "  'I',\n",
              "  'J',\n",
              "  'K',\n",
              "  'L',\n",
              "  'M',\n",
              "  'N',\n",
              "  'O',\n",
              "  'P',\n",
              "  'Q',\n",
              "  'R',\n",
              "  'S',\n",
              "  'T',\n",
              "  'U',\n",
              "  'V',\n",
              "  'W',\n",
              "  'X',\n",
              "  'Y',\n",
              "  'Z',\n",
              "  'a',\n",
              "  'b',\n",
              "  'c',\n",
              "  'd',\n",
              "  'e',\n",
              "  'f',\n",
              "  'g',\n",
              "  'h',\n",
              "  'i',\n",
              "  'j',\n",
              "  'k',\n",
              "  'l',\n",
              "  'm',\n",
              "  'n',\n",
              "  'o',\n",
              "  'p',\n",
              "  'q',\n",
              "  'r',\n",
              "  's',\n",
              "  't',\n",
              "  'u',\n",
              "  'v',\n",
              "  'w',\n",
              "  'x',\n",
              "  'y',\n",
              "  'z'],\n",
              " 65)"
            ]
          },
          "execution_count": 6,
          "metadata": {},
          "output_type": "execute_result"
        }
      ],
      "source": [
        "with open('input.txt', 'r', encoding='utf-8') as f:\n",
        "    text = f.read()\n",
        "\n",
        "# unique characters that occur in this text\n",
        "chars = sorted(list(set(text)))\n",
        "vocab_size = len(chars)\n",
        "\n",
        "chars, vocab_size"
      ]
    },
    {
      "cell_type": "code",
      "execution_count": 7,
      "metadata": {
        "id": "_mNSx1w7CNBt"
      },
      "outputs": [],
      "source": [
        "# create a mapping from chars to ints\n",
        "stoi = { ch:i for i,ch in enumerate(chars) }\n",
        "itos = { i:ch for i,ch in enumerate(chars) }\n",
        "encode = lambda s: [stoi[c] for c in s] # encoder: take a string, output a list of integers\n",
        "decode = lambda l: ''.join([itos[i] for i in l]) # decoder: take a list of integers, output a string\n",
        "\n",
        "data = torch.tensor(encode(text), dtype=torch.long)\n",
        "\n",
        "# lets split into trainh and test\n",
        "n = int(0.9*len(data)) # 90% will be train, rest validation\n",
        "train_data = data[:n]\n",
        "val_data = data[n:]"
      ]
    },
    {
      "cell_type": "code",
      "execution_count": 8,
      "metadata": {
        "id": "8otIT_3VCwrm"
      },
      "outputs": [],
      "source": [
        "def get_batch(split):\n",
        "    # generate a small batch of data of inputs x and targets y\n",
        "    data = train_data if split == 'train' else val_data\n",
        "    ix = torch.randint(len(data) - block_size, (batch_size,))\n",
        "    x = torch.stack([data[i:i+block_size] for i in ix])\n",
        "    y = torch.stack([data[i+1:i+block_size+1] for i in ix])\n",
        "\n",
        "    x, y = x.to(device), y.to(device)\n",
        "    return x, y\n",
        "\n",
        "@torch.no_grad\n",
        "def estimate_loss():\n",
        "    out = {}\n",
        "    model.eval()\n",
        "    for split in ['train', 'val']:\n",
        "        losses = torch.zeros(eval_iters)\n",
        "        for k in range(eval_iters):\n",
        "            X, Y = get_batch(split)\n",
        "            logits, loss = model(X, Y)\n",
        "            losses[k] = loss.item()\n",
        "        out[split] = losses.mean()\n",
        "    model.train()\n",
        "    return out"
      ]
    },
    {
      "cell_type": "code",
      "execution_count": 9,
      "metadata": {
        "colab": {
          "base_uri": "https://localhost:8080/"
        },
        "id": "8ndN5sbODQmj",
        "outputId": "fb058213-2cd9-4352-931b-d24d5c67fca3"
      },
      "outputs": [
        {
          "name": "stdout",
          "output_type": "stream",
          "text": [
            "step 0: train loss 4.2849, val loss 4.2823\n",
            "step 200: train loss 2.4205, val loss 2.4410\n",
            "saving checkpoint to ./model/\n",
            "step 400: train loss 2.1404, val loss 2.1907\n",
            "saving checkpoint to ./model/\n",
            "step 600: train loss 1.8839, val loss 2.0001\n",
            "saving checkpoint to ./model/\n",
            "step 800: train loss 1.7156, val loss 1.8831\n",
            "saving checkpoint to ./model/\n",
            "step 1000: train loss 1.5979, val loss 1.7756\n",
            "saving checkpoint to ./model/\n",
            "step 1200: train loss 1.5220, val loss 1.7197\n",
            "saving checkpoint to ./model/\n",
            "step 1400: train loss 1.4611, val loss 1.6547\n",
            "saving checkpoint to ./model/\n",
            "step 1600: train loss 1.4092, val loss 1.6236\n",
            "saving checkpoint to ./model/\n",
            "step 1800: train loss 1.3741, val loss 1.5977\n",
            "saving checkpoint to ./model/\n",
            "step 2000: train loss 1.3413, val loss 1.5718\n",
            "saving checkpoint to ./model/\n",
            "step 2200: train loss 1.3143, val loss 1.5484\n",
            "saving checkpoint to ./model/\n",
            "step 2400: train loss 1.2900, val loss 1.5394\n",
            "saving checkpoint to ./model/\n",
            "step 2600: train loss 1.2648, val loss 1.5242\n",
            "saving checkpoint to ./model/\n",
            "step 2800: train loss 1.2539, val loss 1.5226\n",
            "saving checkpoint to ./model/\n",
            "step 3000: train loss 1.2267, val loss 1.5036\n",
            "saving checkpoint to ./model/\n",
            "step 3200: train loss 1.2105, val loss 1.5006\n",
            "saving checkpoint to ./model/\n",
            "step 3400: train loss 1.1943, val loss 1.4994\n",
            "saving checkpoint to ./model/\n",
            "step 3600: train loss 1.1749, val loss 1.4909\n",
            "saving checkpoint to ./model/\n",
            "step 3800: train loss 1.1619, val loss 1.4907\n",
            "saving checkpoint to ./model/\n",
            "step 4000: train loss 1.1458, val loss 1.4777\n",
            "saving checkpoint to ./model/\n",
            "step 4200: train loss 1.1301, val loss 1.4844\n",
            "step 4400: train loss 1.1159, val loss 1.4829\n",
            "step 4600: train loss 1.1019, val loss 1.4882\n",
            "step 4800: train loss 1.0903, val loss 1.4877\n",
            "step 4999: train loss 1.0750, val loss 1.4893\n"
          ]
        }
      ],
      "source": [
        "# model initiation\n",
        "model_args = dict(n_layer=n_layer, n_head=n_head,\n",
        "                    n_embed=n_embed, block_size=block_size,\n",
        "                  vocab_size=vocab_size, dropout=dropout)\n",
        "modconf = ModelConfig(**model_args)\n",
        "model = BigramLanguageModel(modconf).to(device)\n",
        "\n",
        "# optimiser\n",
        "optimizer = torch.optim.AdamW(model.parameters(), lr=learning_rate)\n",
        "best_val_loss = 1e9\n",
        "for iter in range(max_iters):\n",
        "    if iter % eval_interval == 0 or iter == max_iters-1:\n",
        "        losses = estimate_loss()\n",
        "        print(f\"step {iter}: train loss {losses['train']:.4f}, val loss {losses['val']:.4f}\")\n",
        "\n",
        "    if losses['val'] < best_val_loss:\n",
        "        best_val_loss = losses['val']\n",
        "        if iter > 0:\n",
        "            checkpoint = {\n",
        "                'model': model.state_dict(),\n",
        "                'model_args': model_args\n",
        "                }\n",
        "            print(f\"saving checkpoint to {out_dir}\")\n",
        "            torch.save(checkpoint, os.path.join(out_dir, 'ckpt.pt'))\n",
        "\n",
        "    # sample a batch of data\n",
        "    xb, yb = get_batch('train')\n",
        "\n",
        "    # evaluate the loss\n",
        "    logits, loss = model(xb, yb)\n",
        "    optimizer.zero_grad(set_to_none=True)\n",
        "    loss.backward()\n",
        "    optimizer.step()"
      ]
    },
    {
      "cell_type": "code",
      "execution_count": 10,
      "metadata": {
        "colab": {
          "base_uri": "https://localhost:8080/"
        },
        "id": "XyQSw4STGXKR",
        "outputId": "bceeeb9c-6e2c-4f6d-b3d1-667e1d6ecfd9"
      },
      "outputs": [
        {
          "name": "stdout",
          "output_type": "stream",
          "text": [
            "\n",
            "But with prison: I will steal win those mercy;\n",
            "And Clarence the Lord Ga father, I my grant too love.\n",
            "\n",
            "CLIFFORD:\n",
            "And, no more: do you not, my lord;\n",
            "I have last it, these were my wars: but you'll try heart of eyes,\n",
            "And with woaks for the world's grace:\n",
            "We will hence of it. Dire you come! know you to fled.\n",
            "I was old down with her.\n",
            "Clarding fie, even more fear ough, paint presately gladlic.\n",
            "\n",
            "SICINIUS:\n",
            "Go, be not. Here's slew!\n",
            "Bid what nothing subs here her sins and bed!\n",
            "\n",
            "SICINIUS:\n",
            "Masterly, tugh unt\n"
          ]
        }
      ],
      "source": [
        "# generate from the model\n",
        "context = torch.zeros((1, 1), dtype=torch.long, device=device)\n",
        "print(decode(model.generate(context, max_new_tokens=500)[0].tolist()))\n"
      ]
    }
  ],
  "metadata": {
    "accelerator": "GPU",
    "colab": {
      "gpuType": "T4",
      "provenance": []
    },
    "kernelspec": {
      "display_name": "Python 3",
      "name": "python3"
    },
    "language_info": {
      "name": "python"
    }
  },
  "nbformat": 4,
  "nbformat_minor": 0
}
